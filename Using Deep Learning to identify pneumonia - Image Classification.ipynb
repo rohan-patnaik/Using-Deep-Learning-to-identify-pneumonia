{
 "cells": [
  {
   "cell_type": "code",
   "execution_count": 1,
   "id": "2bc7d46a",
   "metadata": {},
   "outputs": [],
   "source": [
    "from keras.layers import Input, Lambda, Dense, Flatten\n",
    "from keras.models import Model\n",
    "from keras.applications.vgg16 import VGG16\n",
    "from keras.applications.vgg16 import preprocess_input\n",
    "from keras.preprocessing import image\n",
    "from keras.preprocessing.image import ImageDataGenerator\n",
    "from keras.models import Sequential\n",
    "import numpy as np\n",
    "from glob import glob\n",
    "import matplotlib.pyplot as plt"
   ]
  },
  {
   "cell_type": "code",
   "execution_count": 2,
   "id": "61753431",
   "metadata": {},
   "outputs": [],
   "source": [
    "# re-size all the images to this\n",
    "IMAGE_SIZE = [224, 224]\n",
    "\n",
    "train_path = 'Datasets/train'\n",
    "valid_path = 'Datasets/test'\n",
    "\n",
    "# add preprocessing layer to the front of VGG\n",
    "vgg = VGG16(input_shape=IMAGE_SIZE + [3], weights='imagenet', include_top=False)"
   ]
  },
  {
   "cell_type": "code",
   "execution_count": null,
   "id": "8642520e",
   "metadata": {},
   "outputs": [],
   "source": []
  },
  {
   "cell_type": "code",
   "execution_count": 3,
   "id": "a3932edd",
   "metadata": {},
   "outputs": [],
   "source": [
    "# don't train existing weights\n",
    "for layer in vgg.layers:\n",
    "  layer.trainable = False"
   ]
  },
  {
   "cell_type": "code",
   "execution_count": 4,
   "id": "8c2f7b76",
   "metadata": {},
   "outputs": [],
   "source": [
    "  # useful for getting number of classes\n",
    "folders = glob('Datasets/train/*')"
   ]
  },
  {
   "cell_type": "code",
   "execution_count": 5,
   "id": "b67b6c1a",
   "metadata": {},
   "outputs": [],
   "source": [
    "# our layers - you can add more if you want\n",
    "x = Flatten()(vgg.output)"
   ]
  },
  {
   "cell_type": "code",
   "execution_count": 6,
   "id": "b54c86a4",
   "metadata": {},
   "outputs": [],
   "source": [
    "# x = Dense(1000, activation='relu')(x)\n",
    "prediction = Dense(len(folders), activation='softmax')(x)"
   ]
  },
  {
   "cell_type": "code",
   "execution_count": 7,
   "id": "b6200271",
   "metadata": {},
   "outputs": [
    {
     "name": "stdout",
     "output_type": "stream",
     "text": [
      "Model: \"model\"\n",
      "_________________________________________________________________\n",
      "Layer (type)                 Output Shape              Param #   \n",
      "=================================================================\n",
      "input_1 (InputLayer)         [(None, 224, 224, 3)]     0         \n",
      "_________________________________________________________________\n",
      "block1_conv1 (Conv2D)        (None, 224, 224, 64)      1792      \n",
      "_________________________________________________________________\n",
      "block1_conv2 (Conv2D)        (None, 224, 224, 64)      36928     \n",
      "_________________________________________________________________\n",
      "block1_pool (MaxPooling2D)   (None, 112, 112, 64)      0         \n",
      "_________________________________________________________________\n",
      "block2_conv1 (Conv2D)        (None, 112, 112, 128)     73856     \n",
      "_________________________________________________________________\n",
      "block2_conv2 (Conv2D)        (None, 112, 112, 128)     147584    \n",
      "_________________________________________________________________\n",
      "block2_pool (MaxPooling2D)   (None, 56, 56, 128)       0         \n",
      "_________________________________________________________________\n",
      "block3_conv1 (Conv2D)        (None, 56, 56, 256)       295168    \n",
      "_________________________________________________________________\n",
      "block3_conv2 (Conv2D)        (None, 56, 56, 256)       590080    \n",
      "_________________________________________________________________\n",
      "block3_conv3 (Conv2D)        (None, 56, 56, 256)       590080    \n",
      "_________________________________________________________________\n",
      "block3_pool (MaxPooling2D)   (None, 28, 28, 256)       0         \n",
      "_________________________________________________________________\n",
      "block4_conv1 (Conv2D)        (None, 28, 28, 512)       1180160   \n",
      "_________________________________________________________________\n",
      "block4_conv2 (Conv2D)        (None, 28, 28, 512)       2359808   \n",
      "_________________________________________________________________\n",
      "block4_conv3 (Conv2D)        (None, 28, 28, 512)       2359808   \n",
      "_________________________________________________________________\n",
      "block4_pool (MaxPooling2D)   (None, 14, 14, 512)       0         \n",
      "_________________________________________________________________\n",
      "block5_conv1 (Conv2D)        (None, 14, 14, 512)       2359808   \n",
      "_________________________________________________________________\n",
      "block5_conv2 (Conv2D)        (None, 14, 14, 512)       2359808   \n",
      "_________________________________________________________________\n",
      "block5_conv3 (Conv2D)        (None, 14, 14, 512)       2359808   \n",
      "_________________________________________________________________\n",
      "block5_pool (MaxPooling2D)   (None, 7, 7, 512)         0         \n",
      "_________________________________________________________________\n",
      "flatten (Flatten)            (None, 25088)             0         \n",
      "_________________________________________________________________\n",
      "dense (Dense)                (None, 2)                 50178     \n",
      "=================================================================\n",
      "Total params: 14,764,866\n",
      "Trainable params: 50,178\n",
      "Non-trainable params: 14,714,688\n",
      "_________________________________________________________________\n"
     ]
    }
   ],
   "source": [
    "# create a model object\n",
    "model = Model(inputs=vgg.input, outputs=prediction)\n",
    "\n",
    "# view the structure of the model\n",
    "model.summary()"
   ]
  },
  {
   "cell_type": "code",
   "execution_count": 8,
   "id": "12a75522",
   "metadata": {},
   "outputs": [],
   "source": [
    "# tell the model what cost and optimization method to use\n",
    "model.compile(\n",
    "  loss='categorical_crossentropy',\n",
    "  optimizer='adam',\n",
    "  metrics=['accuracy']\n",
    ")"
   ]
  },
  {
   "cell_type": "code",
   "execution_count": 9,
   "id": "b5062562",
   "metadata": {},
   "outputs": [],
   "source": [
    "from tensorflow.keras.preprocessing.image import ImageDataGenerator\n",
    "\n",
    "train_datagen = ImageDataGenerator(rescale = 1./255,\n",
    "                                   shear_range = 0.2,\n",
    "                                   zoom_range = 0.2,\n",
    "                                   horizontal_flip = True)\n",
    "\n",
    "test_datagen = ImageDataGenerator(rescale = 1./255)"
   ]
  },
  {
   "cell_type": "code",
   "execution_count": 10,
   "id": "7766c0f8",
   "metadata": {},
   "outputs": [
    {
     "name": "stdout",
     "output_type": "stream",
     "text": [
      "Found 5216 images belonging to 2 classes.\n"
     ]
    }
   ],
   "source": [
    "training_set = train_datagen.flow_from_directory('Datasets/train',\n",
    "                                                 target_size = (224, 224),\n",
    "                                                 batch_size = 128,\n",
    "                                                 class_mode = 'categorical')"
   ]
  },
  {
   "cell_type": "code",
   "execution_count": 11,
   "id": "176920f0",
   "metadata": {},
   "outputs": [
    {
     "name": "stdout",
     "output_type": "stream",
     "text": [
      "Found 624 images belonging to 2 classes.\n"
     ]
    }
   ],
   "source": [
    "test_set = test_datagen.flow_from_directory('Datasets/test',\n",
    "                                            target_size = (224, 224),\n",
    "                                            batch_size = 128,\n",
    "                                            class_mode = 'categorical')"
   ]
  },
  {
   "cell_type": "code",
   "execution_count": 12,
   "id": "35dfadd8",
   "metadata": {},
   "outputs": [
    {
     "name": "stderr",
     "output_type": "stream",
     "text": [
      "C:\\Users\\rohan\\anaconda3\\lib\\site-packages\\tensorflow\\python\\keras\\engine\\training.py:1940: UserWarning: `Model.fit_generator` is deprecated and will be removed in a future version. Please use `Model.fit`, which supports generators.\n",
      "  warnings.warn('`Model.fit_generator` is deprecated and '\n"
     ]
    },
    {
     "name": "stdout",
     "output_type": "stream",
     "text": [
      "Epoch 1/5\n",
      "41/41 [==============================] - 394s 10s/step - loss: 0.3367 - accuracy: 0.8635 - val_loss: 0.3078 - val_accuracy: 0.8878\n",
      "Epoch 2/5\n",
      "41/41 [==============================] - 370s 9s/step - loss: 0.1359 - accuracy: 0.9480 - val_loss: 0.3264 - val_accuracy: 0.8798\n",
      "Epoch 3/5\n",
      "41/41 [==============================] - 368s 9s/step - loss: 0.1035 - accuracy: 0.9617 - val_loss: 0.2536 - val_accuracy: 0.9151\n",
      "Epoch 4/5\n",
      "41/41 [==============================] - 370s 9s/step - loss: 0.0969 - accuracy: 0.9653 - val_loss: 0.3116 - val_accuracy: 0.9038\n",
      "Epoch 5/5\n",
      "41/41 [==============================] - 370s 9s/step - loss: 0.0861 - accuracy: 0.9693 - val_loss: 0.2716 - val_accuracy: 0.9135\n"
     ]
    }
   ],
   "source": [
    "# fit the model\n",
    "r = model.fit_generator(\n",
    "  training_set,\n",
    "  validation_data=test_set,\n",
    "  epochs=5,\n",
    "  steps_per_epoch=len(training_set),\n",
    "  validation_steps=len(test_set)\n",
    ")"
   ]
  },
  {
   "cell_type": "code",
   "execution_count": 13,
   "id": "f81d99ea",
   "metadata": {},
   "outputs": [
    {
     "data": {
      "image/png": "[encoded data removed]",
      "text/plain": [
       "<Figure size 432x288 with 1 Axes>"
      ]
     },
     "metadata": {
      "needs_background": "light"
     },
     "output_type": "display_data"
    },
    {
     "data": {
      "text/plain": [
       "<Figure size 432x288 with 0 Axes>"
      ]
     },
     "metadata": {},
     "output_type": "display_data"
    }
   ],
   "source": [
    "# loss\n",
    "plt.plot(r.history['loss'], label='train loss')\n",
    "plt.plot(r.history['val_loss'], label='val loss')\n",
    "plt.legend()\n",
    "plt.show()\n",
    "plt.savefig('LossVal_loss')"
   ]
  },
  {
   "cell_type": "code",
   "execution_count": 14,
   "id": "20bef6a8",
   "metadata": {},
   "outputs": [
    {
     "data": {
      "text/plain": [
       "{'loss': [0.3367112874984741,\n",
       "  0.13585516810417175,\n",
       "  0.10346747189760208,\n",
       "  0.09687019139528275,\n",
       "  0.08607026189565659],\n",
       " 'accuracy': [0.8634969592094421,\n",
       "  0.94804447889328,\n",
       "  0.9616564512252808,\n",
       "  0.9652990698814392,\n",
       "  0.9693251252174377],\n",
       " 'val_loss': [0.30779749155044556,\n",
       "  0.3263648748397827,\n",
       "  0.25358158349990845,\n",
       "  0.3115735650062561,\n",
       "  0.2716265916824341],\n",
       " 'val_accuracy': [0.8878205418586731,\n",
       "  0.879807710647583,\n",
       "  0.9150640964508057,\n",
       "  0.9038461446762085,\n",
       "  0.9134615659713745]}"
      ]
     },
     "execution_count": 14,
     "metadata": {},
     "output_type": "execute_result"
    }
   ],
   "source": [
    "r.history"
   ]
  },
  {
   "cell_type": "code",
   "execution_count": 15,
   "id": "636fe768",
   "metadata": {},
   "outputs": [
    {
     "data": {
      "image/png": "[encoded data removed]",
      "text/plain": [
       "<Figure size 432x288 with 1 Axes>"
      ]
     },
     "metadata": {
      "needs_background": "light"
     },
     "output_type": "display_data"
    },
    {
     "data": {
      "text/plain": [
       "<Figure size 432x288 with 0 Axes>"
      ]
     },
     "metadata": {},
     "output_type": "display_data"
    }
   ],
   "source": [
    "# accuracies\n",
    "plt.plot(r.history['accuracy'], label='train acc')\n",
    "plt.plot(r.history['val_accuracy'], label='val acc')\n",
    "plt.legend()\n",
    "plt.show()\n",
    "plt.savefig('AccVal_acc')"
   ]
  },
  {
   "cell_type": "code",
   "execution_count": 16,
   "id": "82cb90b3",
   "metadata": {},
   "outputs": [],
   "source": [
    "import tensorflow as tf\n",
    "\n",
    "from keras.models import load_model\n",
    "\n",
    "model.save('model_vgg16.h5')"
   ]
  },
  {
   "cell_type": "code",
   "execution_count": 17,
   "id": "40ee8072",
   "metadata": {},
   "outputs": [],
   "source": [
    "# Now we write the code to predict the image classification as \"Infected\" or \"Uninfected\""
   ]
  },
  {
   "cell_type": "code",
   "execution_count": 19,
   "id": "f60f3295",
   "metadata": {},
   "outputs": [],
   "source": [
    "## Predicting Models\n",
    "from keras.models import load_model\n",
    "from keras.preprocessing import image\n",
    "from keras.applications.vgg16 import preprocess_input\n",
    "import numpy as np\n",
    "model = load_model('model_vgg19.h5')"
   ]
  },
  {
   "cell_type": "code",
   "execution_count": 20,
   "id": "1fbd7d22",
   "metadata": {},
   "outputs": [
    {
     "data": {
      "text/plain": [
       "array([[[ 16.,  16.,  16.],\n",
       "        [ 19.,  19.,  19.],\n",
       "        [ 20.,  20.,  20.],\n",
       "        ...,\n",
       "        [ 13.,  13.,  13.],\n",
       "        [ 11.,  11.,  11.],\n",
       "        [ 12.,  12.,  12.]],\n",
       "\n",
       "       [[ 16.,  16.,  16.],\n",
       "        [ 19.,  19.,  19.],\n",
       "        [ 18.,  18.,  18.],\n",
       "        ...,\n",
       "        [ 16.,  16.,  16.],\n",
       "        [ 18.,  18.,  18.],\n",
       "        [ 19.,  19.,  19.]],\n",
       "\n",
       "       [[ 16.,  16.,  16.],\n",
       "        [ 19.,  19.,  19.],\n",
       "        [ 20.,  20.,  20.],\n",
       "        ...,\n",
       "        [ 23.,  23.,  23.],\n",
       "        [ 19.,  19.,  19.],\n",
       "        [ 16.,  16.,  16.]],\n",
       "\n",
       "       ...,\n",
       "\n",
       "       [[  5.,   5.,   5.],\n",
       "        [  1.,   1.,   1.],\n",
       "        [  6.,   6.,   6.],\n",
       "        ...,\n",
       "        [  2.,   2.,   2.],\n",
       "        [  1.,   1.,   1.],\n",
       "        [  0.,   0.,   0.]],\n",
       "\n",
       "       [[255., 255., 255.],\n",
       "        [ 43.,  43.,  43.],\n",
       "        [  6.,   6.,   6.],\n",
       "        ...,\n",
       "        [  2.,   2.,   2.],\n",
       "        [ 27.,  27.,  27.],\n",
       "        [255., 255., 255.]],\n",
       "\n",
       "       [[  0.,   0.,   0.],\n",
       "        [  5.,   5.,   5.],\n",
       "        [  6.,   6.,   6.],\n",
       "        ...,\n",
       "        [  2.,   2.,   2.],\n",
       "        [  0.,   0.,   0.],\n",
       "        [  0.,   0.,   0.]]], dtype=float32)"
      ]
     },
     "execution_count": 20,
     "metadata": {},
     "output_type": "execute_result"
    }
   ],
   "source": [
    "img = image.load_img('Datasets/val/PNEUMONIA/person1946_bacteria_4874.jpeg', target_size=(224, 224))\n",
    "x = image.img_to_array(img)\n",
    "x"
   ]
  },
  {
   "cell_type": "code",
   "execution_count": 21,
   "id": "6413dacb",
   "metadata": {},
   "outputs": [
    {
     "data": {
      "text/plain": [
       "(array([[[[ 16.,  16.,  16.],\n",
       "          [ 19.,  19.,  19.],\n",
       "          [ 20.,  20.,  20.],\n",
       "          ...,\n",
       "          [ 13.,  13.,  13.],\n",
       "          [ 11.,  11.,  11.],\n",
       "          [ 12.,  12.,  12.]],\n",
       " \n",
       "         [[ 16.,  16.,  16.],\n",
       "          [ 19.,  19.,  19.],\n",
       "          [ 18.,  18.,  18.],\n",
       "          ...,\n",
       "          [ 16.,  16.,  16.],\n",
       "          [ 18.,  18.,  18.],\n",
       "          [ 19.,  19.,  19.]],\n",
       " \n",
       "         [[ 16.,  16.,  16.],\n",
       "          [ 19.,  19.,  19.],\n",
       "          [ 20.,  20.,  20.],\n",
       "          ...,\n",
       "          [ 23.,  23.,  23.],\n",
       "          [ 19.,  19.,  19.],\n",
       "          [ 16.,  16.,  16.]],\n",
       " \n",
       "         ...,\n",
       " \n",
       "         [[  5.,   5.,   5.],\n",
       "          [  1.,   1.,   1.],\n",
       "          [  6.,   6.,   6.],\n",
       "          ...,\n",
       "          [  2.,   2.,   2.],\n",
       "          [  1.,   1.,   1.],\n",
       "          [  0.,   0.,   0.]],\n",
       " \n",
       "         [[255., 255., 255.],\n",
       "          [ 43.,  43.,  43.],\n",
       "          [  6.,   6.,   6.],\n",
       "          ...,\n",
       "          [  2.,   2.,   2.],\n",
       "          [ 27.,  27.,  27.],\n",
       "          [255., 255., 255.]],\n",
       " \n",
       "         [[  0.,   0.,   0.],\n",
       "          [  5.,   5.,   5.],\n",
       "          [  6.,   6.,   6.],\n",
       "          ...,\n",
       "          [  2.,   2.,   2.],\n",
       "          [  0.,   0.,   0.],\n",
       "          [  0.,   0.,   0.]]]], dtype=float32),\n",
       " (1, 224, 224, 3))"
      ]
     },
     "execution_count": 21,
     "metadata": {},
     "output_type": "execute_result"
    }
   ],
   "source": [
    "x = np.expand_dims(x, axis=0)\n",
    "x, x.shape"
   ]
  },
  {
   "cell_type": "code",
   "execution_count": 22,
   "id": "65222aca",
   "metadata": {},
   "outputs": [
    {
     "data": {
      "text/plain": [
       "array([[[[ -87.939   , -100.779   , -107.68    ],\n",
       "         [ -84.939   ,  -97.779   , -104.68    ],\n",
       "         [ -83.939   ,  -96.779   , -103.68    ],\n",
       "         ...,\n",
       "         [ -90.939   , -103.779   , -110.68    ],\n",
       "         [ -92.939   , -105.779   , -112.68    ],\n",
       "         [ -91.939   , -104.779   , -111.68    ]],\n",
       "\n",
       "        [[ -87.939   , -100.779   , -107.68    ],\n",
       "         [ -84.939   ,  -97.779   , -104.68    ],\n",
       "         [ -85.939   ,  -98.779   , -105.68    ],\n",
       "         ...,\n",
       "         [ -87.939   , -100.779   , -107.68    ],\n",
       "         [ -85.939   ,  -98.779   , -105.68    ],\n",
       "         [ -84.939   ,  -97.779   , -104.68    ]],\n",
       "\n",
       "        [[ -87.939   , -100.779   , -107.68    ],\n",
       "         [ -84.939   ,  -97.779   , -104.68    ],\n",
       "         [ -83.939   ,  -96.779   , -103.68    ],\n",
       "         ...,\n",
       "         [ -80.939   ,  -93.779   , -100.68    ],\n",
       "         [ -84.939   ,  -97.779   , -104.68    ],\n",
       "         [ -87.939   , -100.779   , -107.68    ]],\n",
       "\n",
       "        ...,\n",
       "\n",
       "        [[ -98.939   , -111.779   , -118.68    ],\n",
       "         [-102.939   , -115.779   , -122.68    ],\n",
       "         [ -97.939   , -110.779   , -117.68    ],\n",
       "         ...,\n",
       "         [-101.939   , -114.779   , -121.68    ],\n",
       "         [-102.939   , -115.779   , -122.68    ],\n",
       "         [-103.939   , -116.779   , -123.68    ]],\n",
       "\n",
       "        [[ 151.061   ,  138.22101 ,  131.32    ],\n",
       "         [ -60.939003,  -73.779   ,  -80.68    ],\n",
       "         [ -97.939   , -110.779   , -117.68    ],\n",
       "         ...,\n",
       "         [-101.939   , -114.779   , -121.68    ],\n",
       "         [ -76.939   ,  -89.779   ,  -96.68    ],\n",
       "         [ 151.061   ,  138.22101 ,  131.32    ]],\n",
       "\n",
       "        [[-103.939   , -116.779   , -123.68    ],\n",
       "         [ -98.939   , -111.779   , -118.68    ],\n",
       "         [ -97.939   , -110.779   , -117.68    ],\n",
       "         ...,\n",
       "         [-101.939   , -114.779   , -121.68    ],\n",
       "         [-103.939   , -116.779   , -123.68    ],\n",
       "         [-103.939   , -116.779   , -123.68    ]]]], dtype=float32)"
      ]
     },
     "execution_count": 22,
     "metadata": {},
     "output_type": "execute_result"
    }
   ],
   "source": [
    "img_data = preprocess_input(x)\n",
    "img_data"
   ]
  },
  {
   "cell_type": "code",
   "execution_count": 23,
   "id": "b31a7773",
   "metadata": {},
   "outputs": [
    {
     "data": {
      "text/plain": [
       "array([[0., 1.]], dtype=float32)"
      ]
     },
     "execution_count": 23,
     "metadata": {},
     "output_type": "execute_result"
    }
   ],
   "source": [
    "classes = model.predict(img_data)\n",
    "classes"
   ]
  },
  {
   "cell_type": "code",
   "execution_count": 24,
   "id": "984d8e5b",
   "metadata": {},
   "outputs": [
    {
     "name": "stdout",
     "output_type": "stream",
     "text": [
      "Uninfected\n"
     ]
    }
   ],
   "source": [
    "a = np.argmax(classes, axis = 1)\n",
    "if (a==1):\n",
    "    print(\"Uninfected\")\n",
    "else:\n",
    "    print(\"Infected\")"
   ]
  },
  {
   "cell_type": "code",
   "execution_count": null,
   "id": "8ea3c682",
   "metadata": {},
   "outputs": [],
   "source": []
  }
 ],
 "metadata": {
  "kernelspec": {
   "display_name": "Python 3",
   "language": "python",
   "name": "python3"
  },
  "language_info": {
   "codemirror_mode": {
    "name": "ipython",
    "version": 3
   },
   "file_extension": ".py",
   "mimetype": "text/x-python",
   "name": "python",
   "nbconvert_exporter": "python",
   "pygments_lexer": "ipython3",
   "version": "3.8.8"
  }
 },
 "nbformat": 4,
 "nbformat_minor": 5
}
